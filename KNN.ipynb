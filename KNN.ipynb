{
 "cells": [
  {
   "cell_type": "markdown",
   "metadata": {},
   "source": [
    "# K-Nearest Neighbor Example\n",
    "The example implements a basic K-Nearest Neighbors (KNN) algorithm in Python using a small dataset. It loads a dataset of 20 instances with two attributes each, then visualizes them, standardizes the attributes, and computes distances to a given test point."
   ]
  },
  {
   "cell_type": "markdown",
   "metadata": {},
   "source": [
    "### Importing Necessary Libraries\n",
    "\n",
    "- matplotlib.pyplot: Used for plotting the data points and visualizing the dataset.\n",
    "\n",
    "- numpy: Used for handling numerical data, particularly for operations like standardization and distance calculation"
   ]
  },
  {
   "cell_type": "code",
   "execution_count": 107,
   "metadata": {},
   "outputs": [],
   "source": [
    "# Module imports\n",
    "import matplotlib.pyplot as plt\n",
    "import numpy as np\n"
   ]
  },
  {
   "cell_type": "markdown",
   "metadata": {},
   "source": [
    "A dataset of 20 instances is defined, with each instance having two numerical features (e.g., x and y coordinates) and a label (either +, -).\n",
    "\n",
    "The format is [feature1, feature2, label].\n",
    "The labels + and - represent two different classes."
   ]
  },
  {
   "cell_type": "code",
   "execution_count": 108,
   "metadata": {},
   "outputs": [],
   "source": [
    "# 20 instances dataset\n",
    "data = [[0.8, 6.3, '-'],\n",
    "[1.4, 8.1, '-'],\n",
    "[2.1, 7.4, '-'],\n",
    "[2.6, 14.3, '+'],\n",
    "[6.8, 12.6, '-'],\n",
    "[8.8, 9.8, '+'],\n",
    "[9.2, 11.6, '-'],\n",
    "[10.8, 9.6, '+'],\n",
    "[11.8, 9.9, '+'],\n",
    "[12.4, 6.5, '+'],\n",
    "[12.8, 1.1, '-'],\n",
    "[14.0, 19.9, '-'],\n",
    "[14.2, 18.5, '-'],\n",
    "[15.6, 17.4, '-'],\n",
    "[15.8, 12.2, '-'],\n",
    "[16.6, 6.7, '+'],\n",
    "[17.4, 4.5, '+'],\n",
    "[18.2, 6.9, '+'],\n",
    "[19.0, 3.4, '-'],\n",
    "[19.6, 11.1, '+'],\n",
    "]"
   ]
  },
  {
   "cell_type": "markdown",
   "metadata": {},
   "source": [
    "Separation of Data: The dataset is divided into positive and negative lists based on their labels (+ and -).\n",
    "\n",
    "The x and y coordinates of each instance are separated into their respective lists for easy plotting.\n",
    "\n",
    "Scatter Plot: The positive and negative instances are plotted on a 2D scatter plot using `plt.scatter()`.\n",
    "\n",
    "Test Point: The test point [9.1, 11.0] (label *) is also plotted on the graph to visualize its position relative to the other data points."
   ]
  },
  {
   "cell_type": "code",
   "execution_count": 109,
   "metadata": {},
   "outputs": [
    {
     "data": {
      "image/png": "[encoded data removed]",
      "text/plain": [
       "<Figure size 640x480 with 1 Axes>"
      ]
     },
     "metadata": {},
     "output_type": "display_data"
    }
   ],
   "source": [
    "# Understand the dataset by plotting data points\n",
    "positive = [[], []]\n",
    "negative = [[], []]\n",
    "for i,v in enumerate(data):\n",
    "    if v[2] == '+':\n",
    "        positive[0].append(v[0])\n",
    "        positive[1].append(v[1])\n",
    "    else:\n",
    "        negative[0].append(v[0])\n",
    "        negative[1].append(v[1])\n",
    "\n",
    "plt.scatter(positive[0], positive[1], marker='+')\n",
    "plt.scatter(negative[0], negative[1], marker='_')\n",
    "\n",
    "# Showing a test instance\n",
    "plt.scatter([9.1],[11.0])\n",
    "\n",
    "plt.show()\n",
    "        "
   ]
  },
  {
   "cell_type": "markdown",
   "metadata": {},
   "source": [
    "Extracting Attribute 1: The first feature (attribute) of all instances is extracted (data_np[:, 0]), which corresponds to the x values of the data points.\n",
    "\n",
    "Standardization: The feature values are standardized by subtracting the mean and dividing by the standard deviation. This is a common technique to scale the features so that they have a mean of 0 and a standard deviation of 1, making them comparable in scale.\n",
    "\n",
    "The result is stored in attribute1_standardized"
   ]
  },
  {
   "cell_type": "code",
   "execution_count": 110,
   "metadata": {},
   "outputs": [],
   "source": [
    "# Standardizing the first feature\\attribute\n",
    "data_np = np.array(data,)\n",
    "\n",
    "def standardize(d):\n",
    "    attribute1_values = np.array(d , dtype = np.float32)\n",
    "    attribute1_standardized = ((attribute1_values - attribute1_values.mean()) / (attribute1_values.std()))\n",
    "    return attribute1_standardized, attribute1_values.mean(), attribute1_values.std()\n",
    "\n",
    "attribute1_standardized = standardize(data_np[:,0])[0]\n",
    "attribute2_standardized = standardize(data_np[:,1])[0]\n"
   ]
  },
  {
   "cell_type": "markdown",
   "metadata": {},
   "source": [
    "Plotting the Standardized Data"
   ]
  },
  {
   "cell_type": "code",
   "execution_count": 111,
   "metadata": {},
   "outputs": [
    {
     "data": {
      "image/png": "[encoded data removed]",
      "text/plain": [
       "<Figure size 640x480 with 1 Axes>"
      ]
     },
     "metadata": {},
     "output_type": "display_data"
    }
   ],
   "source": [
    "plt.scatter(attribute1_standardized , attribute2_standardized)\n",
    "# plt.scatter(negative[0], negative[1])\n",
    "# plt.scatter([9.1],[11.0])\n",
    "plt.show()"
   ]
  },
  {
   "cell_type": "markdown",
   "metadata": {},
   "source": [
    "Distance Function: A function distance(p1, p2) is defined to calculate the Euclidean distance between two points p1 and p2. This is the core of KNN, as the algorithm classifies points based on their proximity to others.\n",
    "\n",
    "Unclassified Test Point: The test point (standardized) [-0.39403465, 0.22349264] is provided, which corresponds to the normalized coordinates of the test point [9.1, 11.0].\n",
    "\n",
    "Calculating Distances: The script iterates over each data point, calculates the Euclidean distance from the test point to that data point, and stores the distance along with the label in the distances dictionary."
   ]
  },
  {
   "cell_type": "code",
   "execution_count": 112,
   "metadata": {},
   "outputs": [],
   "source": [
    "def distance(p1, p2):\n",
    "    return ((p1[0] - p2[0])**2 + (p1[1] - p2[1])**2) ** 0.5"
   ]
  },
  {
   "cell_type": "code",
   "execution_count": 113,
   "metadata": {},
   "outputs": [
    {
     "name": "stdout",
     "output_type": "stream",
     "text": [
      "{0: (np.float32(6.8876367), '-'), 1: (np.float32(5.8179893), '-'), 2: (np.float32(5.2888966), '-'), 3: (np.float32(7.020802), '+'), 4: (np.float32(3.6602366), '-'), 5: (np.float32(1.8488563), '+'), 6: (np.float32(3.3420863), '-'), 7: (np.float32(3.701749), '+'), 8: (np.float32(4.740222), '+'), 9: (np.float32(5.792382), '+'), 10: (np.float32(9.674885), '-'), 11: (np.float32(12.907761), '-'), 12: (np.float32(11.8620405), '-'), 13: (np.float32(11.941972), '-'), 14: (np.float32(9.23371), '-'), 15: (np.float32(9.711378), '+'), 16: (np.float32(11.172927), '+'), 17: (np.float32(11.235373), '+'), 18: (np.float32(13.084156), '-'), 19: (np.float32(12.628632), '+')}\n"
     ]
    }
   ],
   "source": [
    "original_unclassified_instance = [9.1,11.0]\n",
    "\n",
    "# Standardize it\n",
    "unclassified = [ (original_unclassified_instance[0] - standardize(data_np[:,0])[1] / standardize(data_np[:,0])[2])  , (original_unclassified_instance[1] - standardize(data_np[:,1])[1] / standardize(data_np[:,1])[2]) ]\n",
    "distances = {}\n",
    "for i,v in enumerate( data):\n",
    "    distances[i] =( distance(unclassified, [v[0], v[1]]) , v[2])\n",
    "\n",
    "print(distances)"
   ]
  },
  {
   "cell_type": "markdown",
   "metadata": {},
   "source": [
    "Sorting Distances: The distances dictionary is sorted by the distance values (ascending). This helps identify the nearest neighbors.\n",
    "\n",
    "The sorted dictionary distances_sorted contains the distances to the test point and their corresponding labels."
   ]
  },
  {
   "cell_type": "code",
   "execution_count": 114,
   "metadata": {},
   "outputs": [
    {
     "name": "stdout",
     "output_type": "stream",
     "text": [
      "{5: (np.float32(1.8488563), '+'), 6: (np.float32(3.3420863), '-'), 4: (np.float32(3.6602366), '-'), 7: (np.float32(3.701749), '+'), 8: (np.float32(4.740222), '+'), 2: (np.float32(5.2888966), '-'), 9: (np.float32(5.792382), '+'), 1: (np.float32(5.8179893), '-'), 0: (np.float32(6.8876367), '-'), 3: (np.float32(7.020802), '+'), 14: (np.float32(9.23371), '-'), 10: (np.float32(9.674885), '-'), 15: (np.float32(9.711378), '+'), 16: (np.float32(11.172927), '+'), 17: (np.float32(11.235373), '+'), 12: (np.float32(11.8620405), '-'), 13: (np.float32(11.941972), '-'), 19: (np.float32(12.628632), '+'), 11: (np.float32(12.907761), '-'), 18: (np.float32(13.084156), '-')}\n"
     ]
    }
   ],
   "source": [
    "distances_sorted = dict(sorted(distances.items(), key=lambda item: item[1]))\n",
    "print(distances_sorted)"
   ]
  },
  {
   "cell_type": "markdown",
   "metadata": {},
   "source": [
    "The code counts how many of the 5 nearest neighbors are labeled as positive (+) and negative (-) by filtering the sorted distance list and counting the occurrences of each label, then prints the counts."
   ]
  },
  {
   "cell_type": "code",
   "execution_count": 115,
   "metadata": {},
   "outputs": [
    {
     "name": "stdout",
     "output_type": "stream",
     "text": [
      "Voting results: positive(  3 ) negative( 2 )\n"
     ]
    }
   ],
   "source": [
    "positive_count = len(list( filter(lambda x:x[1][1] == '+', list(distances_sorted.items())[:5] )))\n",
    "negative_count = len(list( filter(lambda x:x[1][1] == '-', list(distances_sorted.items())[:5] )))\n",
    "print('Voting results: positive( ',positive_count,') negative(' , negative_count,')')"
   ]
  },
  {
   "cell_type": "code",
   "execution_count": null,
   "metadata": {},
   "outputs": [],
   "source": []
  }
 ],
 "metadata": {
  "kernelspec": {
   "display_name": "b-365",
   "language": "python",
   "name": "python3"
  },
  "language_info": {
   "codemirror_mode": {
    "name": "ipython",
    "version": 3
   },
   "file_extension": ".py",
   "mimetype": "text/x-python",
   "name": "python",
   "nbconvert_exporter": "python",
   "pygments_lexer": "ipython3",
   "version": "3.13.1"
  }
 },
 "nbformat": 4,
 "nbformat_minor": 2
}
